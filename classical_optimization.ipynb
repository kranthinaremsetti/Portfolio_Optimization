{
 "cells": [
  {
   "cell_type": "code",
   "execution_count": 35,
   "id": "57c01a28",
   "metadata": {},
   "outputs": [],
   "source": [
    "import numpy as np\n",
    "import pandas as pd"
   ]
  },
  {
   "cell_type": "code",
   "execution_count": 36,
   "id": "5b302083",
   "metadata": {},
   "outputs": [],
   "source": [
    "# Example: select dataset\n",
    "dataset_option = 'NASDAQ'  # or 'NASDAQ', 'Crypto'\n",
    "\n",
    "# Build file paths\n",
    "expected_returns_path = f'results/{dataset_option}/expected_returns.csv'\n",
    "cov_matrix_path = f'results/{dataset_option}/cov_matrix.csv'\n",
    "\n",
    "# Load data\n",
    "expected_returns_df = pd.read_csv(expected_returns_path, index_col=0)\n",
    "cov_matrix_df = pd.read_csv(cov_matrix_path, index_col=0)"
   ]
  },
  {
   "cell_type": "code",
   "execution_count": 37,
   "id": "a5ce61fe",
   "metadata": {},
   "outputs": [],
   "source": [
    "assets = list(expected_returns_df.index)\n",
    "expected_returns = expected_returns_df.values.flatten()\n",
    "cov_matrix = cov_matrix_df.values"
   ]
  },
  {
   "cell_type": "code",
   "execution_count": 38,
   "id": "6fed302e",
   "metadata": {},
   "outputs": [],
   "source": [
    "# Calculate Sharpe ratio for each asset (assuming risk-free rate = 0)\n",
    "asset_volatility = np.sqrt(np.diag(cov_matrix))\n",
    "sharpe_ratio = expected_returns / asset_volatility"
   ]
  },
  {
   "cell_type": "code",
   "execution_count": 39,
   "id": "e379a4e1",
   "metadata": {},
   "outputs": [],
   "source": [
    "# Get indices of top N assets by Sharpe ratio\n",
    "N = 15  # or any number you want\n",
    "sorted_indices = np.argsort(sharpe_ratio)[::-1][:N]\n",
    "top_assets = np.array(assets)[sorted_indices]"
   ]
  },
  {
   "cell_type": "code",
   "execution_count": 40,
   "id": "bdfde19a",
   "metadata": {},
   "outputs": [],
   "source": [
    "# Filter expected returns and covariance matrix for top assets\n",
    "mu = expected_returns[sorted_indices]\n",
    "Sigma = cov_matrix[np.ix_(sorted_indices, sorted_indices)]\n",
    "n_assets = N\n",
    "portfolio_size = 5  # Number of assets to select"
   ]
  },
  {
   "cell_type": "code",
   "execution_count": 41,
   "id": "3cc7f4ba",
   "metadata": {},
   "outputs": [],
   "source": [
    "import cvxpy as cp"
   ]
  },
  {
   "cell_type": "code",
   "execution_count": 42,
   "id": "40f15391",
   "metadata": {},
   "outputs": [],
   "source": [
    "# Variables\n",
    "w = cp.Variable(n_assets)\n",
    "z = cp.Variable(n_assets, boolean=True)"
   ]
  },
  {
   "cell_type": "code",
   "execution_count": 43,
   "id": "5223229f",
   "metadata": {},
   "outputs": [],
   "source": [
    "# Constraints\n",
    "constraints = [\n",
    "    cp.sum(w) == 1,\n",
    "    w >= 0,\n",
    "    w <= z,\n",
    "    cp.sum(z) == portfolio_size\n",
    "]"
   ]
  },
  {
   "cell_type": "code",
   "execution_count": 44,
   "id": "28c6a12a",
   "metadata": {},
   "outputs": [],
   "source": [
    "min_weight = 1.0 / portfolio_size  # or a smaller value, e.g., 0.05\n",
    "constraints += [w >= min_weight * z]"
   ]
  },
  {
   "cell_type": "code",
   "execution_count": 45,
   "id": "b24b4600",
   "metadata": {},
   "outputs": [
    {
     "name": "stdout",
     "output_type": "stream",
     "text": [
      "Gamma value set to: 0.5\n"
     ]
    }
   ],
   "source": [
    "# UI selection: 'low', 'medium', or 'high'\n",
    "gamma_option = 'medium'  # Change as needed\n",
    "\n",
    "# Map UI options to gamma values\n",
    "gamma_map = {\n",
    "    'low': 0.1,\n",
    "    'medium': 0.5,\n",
    "    'high': 1.0\n",
    "}\n",
    "\n",
    "gamma = gamma_map.get(gamma_option, 0.5)  # Default to 0.5 if not found\n",
    "print(f\"Gamma value set to: {gamma}\")"
   ]
  },
  {
   "cell_type": "code",
   "execution_count": 46,
   "id": "31287907",
   "metadata": {},
   "outputs": [],
   "source": [
    "# Objective: maximize expected return with risk penalty\n",
    "\n",
    "objective = cp.Maximize(mu @ w - gamma * cp.quad_form(w, Sigma))"
   ]
  },
  {
   "cell_type": "code",
   "execution_count": 47,
   "id": "5168de05",
   "metadata": {},
   "outputs": [],
   "source": [
    "# %pip install ecos"
   ]
  },
  {
   "cell_type": "code",
   "execution_count": 48,
   "id": "cd7da43a",
   "metadata": {},
   "outputs": [
    {
     "data": {
      "text/plain": [
       "np.float64(0.0053526594832444055)"
      ]
     },
     "execution_count": 48,
     "metadata": {},
     "output_type": "execute_result"
    }
   ],
   "source": [
    "# Problem\n",
    "prob = cp.Problem(objective, constraints)\n",
    "prob.solve(solver=cp.ECOS_BB)"
   ]
  },
  {
   "cell_type": "code",
   "execution_count": 49,
   "id": "967215f7",
   "metadata": {},
   "outputs": [],
   "source": [
    "# Results\n",
    "selected_assets = [top_assets[i] for i in range(n_assets) if z.value[i] > 0.5]\n",
    "weights = w.value"
   ]
  },
  {
   "cell_type": "code",
   "execution_count": 50,
   "id": "76e4c5a8",
   "metadata": {},
   "outputs": [
    {
     "name": "stdout",
     "output_type": "stream",
     "text": [
      "Selected assets: [np.str_('AppLovin Corporation'), np.str_('Palantir Technologies Inc.'), np.str_('MicroStrategy Incorporated'), np.str_('Axon Enterprise, Inc.'), np.str_('NVIDIA Corporation')]\n",
      "Weights: [2.00000000e-01 2.00000000e-01 7.50260337e-10 8.07034490e-10\n",
      " 2.00000000e-01 1.58885084e-09 2.00000000e-01 1.99999974e-01\n",
      " 1.81071372e-08 8.46124194e-10 1.21087221e-09 1.03113692e-09\n",
      " 7.30127362e-10 1.21884660e-09 6.51592744e-10]\n"
     ]
    }
   ],
   "source": [
    "print(\"Selected assets:\", selected_assets)\n",
    "print(\"Weights:\", weights)"
   ]
  },
  {
   "cell_type": "code",
   "execution_count": 51,
   "id": "1759dd8c",
   "metadata": {},
   "outputs": [
    {
     "name": "stdout",
     "output_type": "stream",
     "text": [
      "\n",
      "Portfolio Allocation (Proportional to Expected Returns):\n",
      "                        Asset  Expected Return    Weight  Investment (₹)\n",
      "0        AppLovin Corporation         0.007192  0.251990   251989.531896\n",
      "1  Palantir Technologies Inc.         0.005579  0.195485   195484.945984\n",
      "2  MicroStrategy Incorporated         0.008502  0.297891   297891.350214\n",
      "3       Axon Enterprise, Inc.         0.003480  0.121917   121916.923680\n",
      "4          NVIDIA Corporation         0.003788  0.132717   132717.248225\n"
     ]
    }
   ],
   "source": [
    "# ---- Portfolio Weights based on Expected Returns ----\n",
    "\n",
    "# Extract chosen assets (from classical optimization solution)\n",
    "selected_indices = [i for i in range(n_assets) if z.value[i] > 0.5]\n",
    "\n",
    "chosen_returns = mu[selected_indices]\n",
    "chosen_assets = top_assets[selected_indices]\n",
    "\n",
    "# Compute proportional weights\n",
    "chosen_weights = chosen_returns / chosen_returns.sum()\n",
    "\n",
    "# Total investment\n",
    "total_investment = 1_000_000\n",
    "allocation = chosen_weights * total_investment\n",
    "\n",
    "# Create allocation DataFrame\n",
    "portfolio_allocation = pd.DataFrame({\n",
    "    \"Asset\": chosen_assets,\n",
    "    \"Expected Return\": chosen_returns,\n",
    "    \"Weight\": chosen_weights,\n",
    "    \"Investment (₹)\": allocation\n",
    "})\n",
    "\n",
    "print(\"\\nPortfolio Allocation (Proportional to Expected Returns):\")\n",
    "print(portfolio_allocation)"
   ]
  }
 ],
 "metadata": {
  "kernelspec": {
   "display_name": "Python 3",
   "language": "python",
   "name": "python3"
  },
  "language_info": {
   "codemirror_mode": {
    "name": "ipython",
    "version": 3
   },
   "file_extension": ".py",
   "mimetype": "text/x-python",
   "name": "python",
   "nbconvert_exporter": "python",
   "pygments_lexer": "ipython3",
   "version": "3.12.1"
  }
 },
 "nbformat": 4,
 "nbformat_minor": 5
}
