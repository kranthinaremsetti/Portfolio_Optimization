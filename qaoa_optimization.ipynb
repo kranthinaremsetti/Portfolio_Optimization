{
 "cells": [
  {
   "cell_type": "code",
   "execution_count": 1,
   "id": "42539199",
   "metadata": {},
   "outputs": [],
   "source": [
    "import numpy as np\n",
    "import pandas as pd\n",
    "from qiskit_optimization import QuadraticProgram"
   ]
  },
  {
   "cell_type": "code",
   "execution_count": 2,
   "id": "95fb5edd",
   "metadata": {},
   "outputs": [],
   "source": [
    "# Example: select dataset\n",
    "dataset_option = 'NIFTY50'  # or 'NASDAQ', 'Crypto'\n",
    "\n",
    "# Build file paths\n",
    "expected_returns_path = f'results/{dataset_option}/expected_returns.csv'\n",
    "cov_matrix_path = f'results/{dataset_option}/cov_matrix.csv'\n",
    "\n",
    "# Load data\n",
    "expected_returns = pd.read_csv(expected_returns_path, index_col=0)\n",
    "cov_matrix = pd.read_csv(cov_matrix_path, index_col=0)"
   ]
  },
  {
   "cell_type": "code",
   "execution_count": 3,
   "id": "7330f15d",
   "metadata": {},
   "outputs": [],
   "source": [
    "# Calculate Sharpe ratio for each asset (assuming risk-free rate = 0)\n",
    "asset_volatility = np.sqrt(np.diag(cov_matrix))\n",
    "sharpe_ratio = expected_returns.values.flatten() / asset_volatility"
   ]
  },
  {
   "cell_type": "code",
   "execution_count": 4,
   "id": "c716d7c0",
   "metadata": {},
   "outputs": [],
   "source": [
    "# Get indices of top 15 assets by Sharpe ratio\n",
    "N = 15\n",
    "sorted_indices = np.argsort(sharpe_ratio)[::-1][:N]\n",
    "top_assets = expected_returns.index[sorted_indices]"
   ]
  },
  {
   "cell_type": "code",
   "execution_count": 5,
   "id": "21c73d64",
   "metadata": {},
   "outputs": [],
   "source": [
    "\n",
    "# Filter expected returns and covariance matrix for top assets\n",
    "mu = expected_returns.loc[top_assets].values.flatten()\n",
    "Sigma = cov_matrix.loc[top_assets, top_assets].values\n",
    "n_assets = N"
   ]
  },
  {
   "cell_type": "code",
   "execution_count": null,
   "id": "4d8d7347",
   "metadata": {},
   "outputs": [],
   "source": [
    "# UI selection: 'low', 'medium', or 'high'\n",
    "gamma_option = 'medium'  # Change as needed\n",
    "\n",
    "# Map UI options to gamma values\n",
    "gamma_map = {\n",
    "    'low': 0.1,\n",
    "    'medium': 0.5,\n",
    "    'high': 1.0\n",
    "}\n",
    "\n",
    "gamma = gamma_map.get(gamma_option, 0.5)  # Default to 0.5 if not found\n",
    "print(f\"Gamma value set to: {gamma}\")"
   ]
  },
  {
   "cell_type": "code",
   "execution_count": null,
   "id": "5ec729d2",
   "metadata": {},
   "outputs": [
    {
     "name": "stdout",
     "output_type": "stream",
     "text": [
      "Budget constraint: selecting 5 out of 15 assets\n"
     ]
    }
   ],
   "source": [
    "\n",
    "\n",
    "# Flexible budget: you can choose either by number or percentage\n",
    "# Example: set budget_type = \"percentage\" and budget_value = 0.3 (30%)\n",
    "#          or set budget_type = \"number\" and budget_value = 10 (10 stocks)\n",
    "\n",
    "budget_type = \"number\"   # options: \"percentage\" or \"number\"\n",
    "budget_value = 5         # if percentage → fraction of total assets, if number → count\n",
    "\n",
    "if budget_type == \"percentage\":\n",
    "    budget = int(n_assets * budget_value)\n",
    "else:  # \"number\"\n",
    "    budget = int(budget_value)\n",
    "\n",
    "# Ensure budget is within valid range\n",
    "budget = max(1, min(budget, n_assets))\n",
    "print(f\"Budget constraint: selecting {budget} out of {n_assets} assets\")"
   ]
  },
  {
   "cell_type": "code",
   "execution_count": 7,
   "id": "efbbaf89",
   "metadata": {},
   "outputs": [],
   "source": [
    "qp = QuadraticProgram(\"Portfolio Optimization\")"
   ]
  },
  {
   "cell_type": "code",
   "execution_count": 8,
   "id": "a4478679",
   "metadata": {},
   "outputs": [],
   "source": [
    "# Decision variables: x_i = 1 if asset i is chosen, 0 otherwise\n",
    "for i in range(n_assets):\n",
    "    qp.binary_var(name=f\"x_{i}\")"
   ]
  },
  {
   "cell_type": "code",
   "execution_count": 9,
   "id": "bc2d608e",
   "metadata": {},
   "outputs": [],
   "source": [
    "# Objective: maximize returns - gamma * risk\n",
    "# Equivalent to: minimize -mu^T x + gamma * x^T Σ x\n",
    "linear = -mu\n",
    "quadratic = gamma * Sigma\n",
    "qp.minimize(linear=linear, quadratic=quadratic)"
   ]
  },
  {
   "cell_type": "code",
   "execution_count": 10,
   "id": "39a5bc9c",
   "metadata": {},
   "outputs": [
    {
     "data": {
      "text/plain": [
       "<LinearConstraint: x_0 + x_1 + x_10 + x_11 + x_12 + x_13 + x_14 + x_2... == 5 'budget_constraint'>"
      ]
     },
     "execution_count": 10,
     "metadata": {},
     "output_type": "execute_result"
    }
   ],
   "source": [
    "# Budget constraint: select exactly \"budget\" assets\n",
    "qp.linear_constraint(\n",
    "    linear={f\"x_{i}\": 1 for i in range(n_assets)},\n",
    "    sense=\"==\",\n",
    "    rhs=budget,\n",
    "    name=\"budget_constraint\"\n",
    ")"
   ]
  },
  {
   "cell_type": "code",
   "execution_count": 11,
   "id": "9bea8f4f",
   "metadata": {},
   "outputs": [],
   "source": [
    "import numpy as np\n",
    "from qiskit_algorithms.optimizers import COBYLA\n",
    "from qiskit_algorithms import QAOA\n",
    "from qiskit.primitives import Sampler\n",
    "from qiskit_optimization import QuadraticProgram\n",
    "from qiskit_optimization.algorithms import MinimumEigenOptimizer"
   ]
  },
  {
   "cell_type": "code",
   "execution_count": 12,
   "id": "1235ced4",
   "metadata": {},
   "outputs": [],
   "source": [
    "sampler = Sampler()\n",
    "qaoa = QAOA(sampler=sampler, optimizer=COBYLA(), reps=1)\n",
    "optimizer = MinimumEigenOptimizer(qaoa)"
   ]
  },
  {
   "cell_type": "code",
   "execution_count": 13,
   "id": "4e0ee755",
   "metadata": {},
   "outputs": [],
   "source": [
    "result = optimizer.solve(qp)"
   ]
  },
  {
   "cell_type": "code",
   "execution_count": 14,
   "id": "f92139ad",
   "metadata": {},
   "outputs": [
    {
     "name": "stdout",
     "output_type": "stream",
     "text": [
      "\n",
      "Optimal portfolio allocation:\n",
      "fval=-0.01332932945389466, x_0=1.0, x_1=1.0, x_2=1.0, x_3=1.0, x_4=0.0, x_5=1.0, x_6=0.0, x_7=0.0, x_8=0.0, x_9=0.0, x_10=0.0, x_11=0.0, x_12=0.0, x_13=0.0, x_14=0.0, status=SUCCESS\n"
     ]
    }
   ],
   "source": [
    "print(\"\\nOptimal portfolio allocation:\")\n",
    "print(result)"
   ]
  },
  {
   "cell_type": "code",
   "execution_count": 15,
   "id": "44d68000",
   "metadata": {},
   "outputs": [
    {
     "name": "stdout",
     "output_type": "stream",
     "text": [
      "\n",
      "Selected Portfolio Assets: ['Advanced Micro Devices', 'Alphabet Inc', 'Amazon.com Inc', 'Apple Inc', 'BSE Ltd']\n"
     ]
    }
   ],
   "source": [
    "selected_assets = [expected_returns.index[i] for i, x in enumerate(result.x) if x > 0.5]\n",
    "print(\"\\nSelected Portfolio Assets:\", selected_assets)"
   ]
  },
  {
   "cell_type": "code",
   "execution_count": 16,
   "id": "89802333",
   "metadata": {},
   "outputs": [
    {
     "name": "stdout",
     "output_type": "stream",
     "text": [
      "\n",
      "Portfolio Allocation (Proportional to Expected Returns):\n",
      "                    Asset  Expected Return    Weight  Investment (₹)\n",
      "0  Advanced Micro Devices         0.001179  0.142982   142981.566741\n",
      "1            Alphabet Inc         0.001157  0.140319   140318.729286\n",
      "2          Amazon.com Inc         0.001418  0.171991   171991.307186\n",
      "3               Apple Inc         0.001031  0.125006   125006.398576\n",
      "4                 BSE Ltd         0.003460  0.419702   419701.998210\n"
     ]
    }
   ],
   "source": [
    "# ---- Portfolio Weights based on Expected Returns ----\n",
    "\n",
    "# Extract chosen assets (from QAOA solution)\n",
    "# Assuming `result` contains the solution dictionary with chosen assets (x_i = 1 if selected)\n",
    "selected_assets = [i for i, val in enumerate(result.x) if val > 0.5]\n",
    "\n",
    "chosen_returns = expected_returns.iloc[selected_assets].values.flatten()\n",
    "\n",
    "# Compute proportional weights\n",
    "weights = chosen_returns / chosen_returns.sum()\n",
    "\n",
    "# Total investment\n",
    "total_investment = 1_000_000\n",
    "allocation = weights * total_investment\n",
    "\n",
    "# Create allocation DataFrame\n",
    "portfolio_allocation = pd.DataFrame({\n",
    "    \"Asset\": expected_returns.index[selected_assets],\n",
    "    \"Expected Return\": chosen_returns,\n",
    "    \"Weight\": weights,\n",
    "    \"Investment (₹)\": allocation\n",
    "})\n",
    "\n",
    "print(\"\\nPortfolio Allocation (Proportional to Expected Returns):\")\n",
    "print(portfolio_allocation)"
   ]
  },
  {
   "cell_type": "code",
   "execution_count": null,
   "id": "a5884668",
   "metadata": {},
   "outputs": [],
   "source": []
  }
 ],
 "metadata": {
  "kernelspec": {
   "display_name": "Python 3",
   "language": "python",
   "name": "python3"
  },
  "language_info": {
   "codemirror_mode": {
    "name": "ipython",
    "version": 3
   },
   "file_extension": ".py",
   "mimetype": "text/x-python",
   "name": "python",
   "nbconvert_exporter": "python",
   "pygments_lexer": "ipython3",
   "version": "3.12.1"
  }
 },
 "nbformat": 4,
 "nbformat_minor": 5
}
