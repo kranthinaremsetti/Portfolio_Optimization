{
 "cells": [
  {
   "cell_type": "code",
   "execution_count": 2,
   "id": "e3b96ca5",
   "metadata": {},
   "outputs": [],
   "source": [
    "import pandas as pd\n",
    "import numpy as np\n",
    "import os"
   ]
  },
  {
   "cell_type": "code",
   "execution_count": 6,
   "id": "debc97cc",
   "metadata": {},
   "outputs": [
    {
     "name": "stdout",
     "output_type": "stream",
     "text": [
      "Using dataset: NIFTY50_Combined.csv\n"
     ]
    }
   ],
   "source": [
    "# ---- Select Dataset Source ----\n",
    "# Options: 'NIFTY50', 'NASDAQ', 'Crypto'\n",
    "dataset_option = 'NIFTY50'  # Change as needed\n",
    "\n",
    "if dataset_option == 'NIFTY50':\n",
    "    DATA_PATH = 'NIFTY50_Combined.csv'\n",
    "elif dataset_option == 'NASDAQ':\n",
    "    DATA_PATH = 'nasdaq_dataset.csv'\n",
    "elif dataset_option == 'Crypto':\n",
    "    DATA_PATH = 'crypto_dataset.csv'\n",
    "else:\n",
    "    raise ValueError('Invalid dataset option selected!')\n",
    "\n",
    "print(f\"Using dataset: {DATA_PATH}\")"
   ]
  },
  {
   "cell_type": "code",
   "execution_count": 7,
   "id": "c87945ad",
   "metadata": {},
   "outputs": [],
   "source": [
    "\n",
    "RESULTS_DIR = \"results\"\n",
    "os.makedirs(RESULTS_DIR, exist_ok=True)"
   ]
  },
  {
   "cell_type": "code",
   "execution_count": 18,
   "id": "3d7d77ac",
   "metadata": {},
   "outputs": [],
   "source": [
    "# Ensure results subdirectory for selected dataset exists\n",
    "os.makedirs(os.path.join(RESULTS_DIR, dataset_option), exist_ok=True)"
   ]
  },
  {
   "cell_type": "code",
   "execution_count": 19,
   "id": "fde8f214",
   "metadata": {},
   "outputs": [],
   "source": [
    "df = pd.read_csv(DATA_PATH)"
   ]
  },
  {
   "cell_type": "code",
   "execution_count": 20,
   "id": "0bf3e096",
   "metadata": {},
   "outputs": [
    {
     "name": "stdout",
     "output_type": "stream",
     "text": [
      "Columns in dataset: Index(['Date', 'Company', 'Open', 'High', 'Low', 'Close', 'Volume'], dtype='object')\n"
     ]
    }
   ],
   "source": [
    "print(\"Columns in dataset:\", df.columns)"
   ]
  },
  {
   "cell_type": "code",
   "execution_count": 21,
   "id": "ae9a8c9e",
   "metadata": {},
   "outputs": [],
   "source": [
    "# 2. Pivot table: each column = stock, values = Adj Close\n",
    "price_df = df.pivot(index=\"Date\", columns=\"Company\", values=\"Close\")"
   ]
  },
  {
   "cell_type": "code",
   "execution_count": 22,
   "id": "7d7e36fb",
   "metadata": {},
   "outputs": [
    {
     "data": {
      "text/html": [
       "<div>\n",
       "<style scoped>\n",
       "    .dataframe tbody tr th:only-of-type {\n",
       "        vertical-align: middle;\n",
       "    }\n",
       "\n",
       "    .dataframe tbody tr th {\n",
       "        vertical-align: top;\n",
       "    }\n",
       "\n",
       "    .dataframe thead th {\n",
       "        text-align: right;\n",
       "    }\n",
       "</style>\n",
       "<table border=\"1\" class=\"dataframe\">\n",
       "  <thead>\n",
       "    <tr style=\"text-align: right;\">\n",
       "      <th>Company</th>\n",
       "      <th>Adani Enterprises</th>\n",
       "      <th>Adani Green Energy</th>\n",
       "      <th>Adani Ports</th>\n",
       "      <th>Apollo Hospitals</th>\n",
       "      <th>Asian Paints</th>\n",
       "      <th>Axis Bank</th>\n",
       "      <th>Bajaj Auto</th>\n",
       "      <th>Bajaj Finance</th>\n",
       "      <th>Bajaj Finserv</th>\n",
       "      <th>Bharat Petroleum</th>\n",
       "      <th>...</th>\n",
       "      <th>State Bank of India</th>\n",
       "      <th>Sun Pharmaceutical</th>\n",
       "      <th>Tata Consultancy Services</th>\n",
       "      <th>Tata Motors</th>\n",
       "      <th>Tata Steel</th>\n",
       "      <th>Tech Mahindra</th>\n",
       "      <th>Titan Company</th>\n",
       "      <th>UPL</th>\n",
       "      <th>UltraTech Cement</th>\n",
       "      <th>Wipro</th>\n",
       "    </tr>\n",
       "    <tr>\n",
       "      <th>Date</th>\n",
       "      <th></th>\n",
       "      <th></th>\n",
       "      <th></th>\n",
       "      <th></th>\n",
       "      <th></th>\n",
       "      <th></th>\n",
       "      <th></th>\n",
       "      <th></th>\n",
       "      <th></th>\n",
       "      <th></th>\n",
       "      <th></th>\n",
       "      <th></th>\n",
       "      <th></th>\n",
       "      <th></th>\n",
       "      <th></th>\n",
       "      <th></th>\n",
       "      <th></th>\n",
       "      <th></th>\n",
       "      <th></th>\n",
       "      <th></th>\n",
       "      <th></th>\n",
       "    </tr>\n",
       "  </thead>\n",
       "  <tbody>\n",
       "    <tr>\n",
       "      <th>2023-01-02</th>\n",
       "      <td>3835.772705</td>\n",
       "      <td>1888.699951</td>\n",
       "      <td>809.381470</td>\n",
       "      <td>4417.438965</td>\n",
       "      <td>2960.424316</td>\n",
       "      <td>939.112061</td>\n",
       "      <td>3354.876953</td>\n",
       "      <td>646.237976</td>\n",
       "      <td>1549.948853</td>\n",
       "      <td>147.562225</td>\n",
       "      <td>...</td>\n",
       "      <td>578.999573</td>\n",
       "      <td>968.350952</td>\n",
       "      <td>3121.404541</td>\n",
       "      <td>389.017822</td>\n",
       "      <td>110.620438</td>\n",
       "      <td>930.023743</td>\n",
       "      <td>2541.474365</td>\n",
       "      <td>703.149963</td>\n",
       "      <td>6901.092285</td>\n",
       "      <td>188.113312</td>\n",
       "    </tr>\n",
       "    <tr>\n",
       "      <th>2023-01-03</th>\n",
       "      <td>3825.537354</td>\n",
       "      <td>1892.949951</td>\n",
       "      <td>807.560547</td>\n",
       "      <td>4453.686035</td>\n",
       "      <td>2941.965820</td>\n",
       "      <td>959.757446</td>\n",
       "      <td>3380.925781</td>\n",
       "      <td>651.414795</td>\n",
       "      <td>1560.431519</td>\n",
       "      <td>148.888229</td>\n",
       "      <td>...</td>\n",
       "      <td>579.188660</td>\n",
       "      <td>980.103210</td>\n",
       "      <td>3169.161865</td>\n",
       "      <td>388.131012</td>\n",
       "      <td>109.878334</td>\n",
       "      <td>943.197937</td>\n",
       "      <td>2588.871826</td>\n",
       "      <td>700.569153</td>\n",
       "      <td>6877.147949</td>\n",
       "      <td>190.027725</td>\n",
       "    </tr>\n",
       "    <tr>\n",
       "      <th>2023-01-04</th>\n",
       "      <td>3821.642822</td>\n",
       "      <td>1860.500000</td>\n",
       "      <td>797.274780</td>\n",
       "      <td>4396.562500</td>\n",
       "      <td>2930.890869</td>\n",
       "      <td>954.920288</td>\n",
       "      <td>3335.070068</td>\n",
       "      <td>647.938904</td>\n",
       "      <td>1545.306396</td>\n",
       "      <td>148.645126</td>\n",
       "      <td>...</td>\n",
       "      <td>572.379089</td>\n",
       "      <td>975.246887</td>\n",
       "      <td>3172.319824</td>\n",
       "      <td>379.952606</td>\n",
       "      <td>107.373726</td>\n",
       "      <td>939.973511</td>\n",
       "      <td>2572.973877</td>\n",
       "      <td>696.965820</td>\n",
       "      <td>6888.702148</td>\n",
       "      <td>186.510040</td>\n",
       "    </tr>\n",
       "    <tr>\n",
       "      <th>2023-01-05</th>\n",
       "      <td>3824.388916</td>\n",
       "      <td>1860.000000</td>\n",
       "      <td>806.723877</td>\n",
       "      <td>4392.347656</td>\n",
       "      <td>2918.746826</td>\n",
       "      <td>947.041077</td>\n",
       "      <td>3399.183594</td>\n",
       "      <td>601.500549</td>\n",
       "      <td>1466.436157</td>\n",
       "      <td>151.319229</td>\n",
       "      <td>...</td>\n",
       "      <td>572.284607</td>\n",
       "      <td>986.999329</td>\n",
       "      <td>3168.922607</td>\n",
       "      <td>381.233521</td>\n",
       "      <td>108.115829</td>\n",
       "      <td>932.004517</td>\n",
       "      <td>2537.859131</td>\n",
       "      <td>701.494385</td>\n",
       "      <td>6890.324707</td>\n",
       "      <td>185.169952</td>\n",
       "    </tr>\n",
       "    <tr>\n",
       "      <th>2023-01-06</th>\n",
       "      <td>3818.846924</td>\n",
       "      <td>1838.250000</td>\n",
       "      <td>793.435974</td>\n",
       "      <td>4351.093750</td>\n",
       "      <td>2893.535889</td>\n",
       "      <td>937.416687</td>\n",
       "      <td>3418.990234</td>\n",
       "      <td>589.702332</td>\n",
       "      <td>1427.999512</td>\n",
       "      <td>152.357956</td>\n",
       "      <td>...</td>\n",
       "      <td>568.075989</td>\n",
       "      <td>979.714783</td>\n",
       "      <td>3073.647461</td>\n",
       "      <td>376.405304</td>\n",
       "      <td>107.280960</td>\n",
       "      <td>908.512146</td>\n",
       "      <td>2514.086182</td>\n",
       "      <td>699.400513</td>\n",
       "      <td>6865.937500</td>\n",
       "      <td>182.824799</td>\n",
       "    </tr>\n",
       "  </tbody>\n",
       "</table>\n",
       "<p>5 rows × 50 columns</p>\n",
       "</div>"
      ],
      "text/plain": [
       "Company     Adani Enterprises  Adani Green Energy  Adani Ports  \\\n",
       "Date                                                             \n",
       "2023-01-02        3835.772705         1888.699951   809.381470   \n",
       "2023-01-03        3825.537354         1892.949951   807.560547   \n",
       "2023-01-04        3821.642822         1860.500000   797.274780   \n",
       "2023-01-05        3824.388916         1860.000000   806.723877   \n",
       "2023-01-06        3818.846924         1838.250000   793.435974   \n",
       "\n",
       "Company     Apollo Hospitals  Asian Paints   Axis Bank   Bajaj Auto  \\\n",
       "Date                                                                  \n",
       "2023-01-02       4417.438965   2960.424316  939.112061  3354.876953   \n",
       "2023-01-03       4453.686035   2941.965820  959.757446  3380.925781   \n",
       "2023-01-04       4396.562500   2930.890869  954.920288  3335.070068   \n",
       "2023-01-05       4392.347656   2918.746826  947.041077  3399.183594   \n",
       "2023-01-06       4351.093750   2893.535889  937.416687  3418.990234   \n",
       "\n",
       "Company     Bajaj Finance  Bajaj Finserv  Bharat Petroleum  ...  \\\n",
       "Date                                                        ...   \n",
       "2023-01-02     646.237976    1549.948853        147.562225  ...   \n",
       "2023-01-03     651.414795    1560.431519        148.888229  ...   \n",
       "2023-01-04     647.938904    1545.306396        148.645126  ...   \n",
       "2023-01-05     601.500549    1466.436157        151.319229  ...   \n",
       "2023-01-06     589.702332    1427.999512        152.357956  ...   \n",
       "\n",
       "Company     State Bank of India  Sun Pharmaceutical  \\\n",
       "Date                                                  \n",
       "2023-01-02           578.999573          968.350952   \n",
       "2023-01-03           579.188660          980.103210   \n",
       "2023-01-04           572.379089          975.246887   \n",
       "2023-01-05           572.284607          986.999329   \n",
       "2023-01-06           568.075989          979.714783   \n",
       "\n",
       "Company     Tata Consultancy Services  Tata Motors  Tata Steel  Tech Mahindra  \\\n",
       "Date                                                                            \n",
       "2023-01-02                3121.404541   389.017822  110.620438     930.023743   \n",
       "2023-01-03                3169.161865   388.131012  109.878334     943.197937   \n",
       "2023-01-04                3172.319824   379.952606  107.373726     939.973511   \n",
       "2023-01-05                3168.922607   381.233521  108.115829     932.004517   \n",
       "2023-01-06                3073.647461   376.405304  107.280960     908.512146   \n",
       "\n",
       "Company     Titan Company         UPL  UltraTech Cement       Wipro  \n",
       "Date                                                                 \n",
       "2023-01-02    2541.474365  703.149963       6901.092285  188.113312  \n",
       "2023-01-03    2588.871826  700.569153       6877.147949  190.027725  \n",
       "2023-01-04    2572.973877  696.965820       6888.702148  186.510040  \n",
       "2023-01-05    2537.859131  701.494385       6890.324707  185.169952  \n",
       "2023-01-06    2514.086182  699.400513       6865.937500  182.824799  \n",
       "\n",
       "[5 rows x 50 columns]"
      ]
     },
     "execution_count": 22,
     "metadata": {},
     "output_type": "execute_result"
    }
   ],
   "source": [
    "price_df.head()"
   ]
  },
  {
   "cell_type": "code",
   "execution_count": 23,
   "id": "0e4e50e1",
   "metadata": {},
   "outputs": [],
   "source": [
    "# 3. Calculate daily returns (percentage change)\n",
    "returns_df = price_df.pct_change().dropna()"
   ]
  },
  {
   "cell_type": "code",
   "execution_count": 24,
   "id": "e85b87e3",
   "metadata": {},
   "outputs": [],
   "source": [
    "# 4. Calculate expected returns (mean of daily returns)\n",
    "expected_returns = returns_df.mean()"
   ]
  },
  {
   "cell_type": "code",
   "execution_count": 25,
   "id": "88525bba",
   "metadata": {},
   "outputs": [],
   "source": [
    "# 5. Calculate covariance matrix of returns\n",
    "cov_matrix = returns_df.cov()"
   ]
  },
  {
   "cell_type": "code",
   "execution_count": 26,
   "id": "4eeaa856",
   "metadata": {},
   "outputs": [],
   "source": [
    "returns_df.to_csv(os.path.join(RESULTS_DIR, f\"{dataset_option}/daily_returns.csv\"))\n",
    "expected_returns.to_csv(os.path.join(RESULTS_DIR, f\"{dataset_option}/expected_returns.csv\"))\n",
    "cov_matrix.to_csv(os.path.join(RESULTS_DIR, f\"{dataset_option}/cov_matrix.csv\"))"
   ]
  },
  {
   "cell_type": "code",
   "execution_count": 27,
   "id": "b6c472a0",
   "metadata": {},
   "outputs": [
    {
     "name": "stdout",
     "output_type": "stream",
     "text": [
      "✅ Preprocessing done. Files saved in /results\n",
      "Expected Returns (first few):\n",
      " Company\n",
      "Adani Enterprises    -0.000039\n",
      "Adani Green Energy   -0.000508\n",
      "Adani Ports           0.001241\n",
      "Apollo Hospitals      0.001112\n",
      "Asian Paints         -0.000478\n",
      "dtype: float64\n",
      "Covariance Matrix shape: (50, 50)\n"
     ]
    }
   ],
   "source": [
    "\n",
    "print(\"✅ Preprocessing done. Files saved in /results\")\n",
    "print(\"Expected Returns (first few):\\n\", expected_returns.head())\n",
    "print(\"Covariance Matrix shape:\", cov_matrix.shape)"
   ]
  },
  {
   "cell_type": "code",
   "execution_count": null,
   "id": "077b25df",
   "metadata": {},
   "outputs": [],
   "source": []
  }
 ],
 "metadata": {
  "kernelspec": {
   "display_name": "Python 3",
   "language": "python",
   "name": "python3"
  },
  "language_info": {
   "codemirror_mode": {
    "name": "ipython",
    "version": 3
   },
   "file_extension": ".py",
   "mimetype": "text/x-python",
   "name": "python",
   "nbconvert_exporter": "python",
   "pygments_lexer": "ipython3",
   "version": "3.12.1"
  }
 },
 "nbformat": 4,
 "nbformat_minor": 5
}
