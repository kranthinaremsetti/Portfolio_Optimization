{
 "cells": [
  {
   "cell_type": "code",
   "execution_count": 25,
   "id": "e3b96ca5",
   "metadata": {},
   "outputs": [],
   "source": [
    "import pandas as pd\n",
    "import numpy as np\n",
    "import os"
   ]
  },
  {
   "cell_type": "code",
   "execution_count": 26,
   "id": "debc97cc",
   "metadata": {},
   "outputs": [
    {
     "name": "stdout",
     "output_type": "stream",
     "text": [
      "Using dataset: CRYPTO50_Combined.csv\n"
     ]
    }
   ],
   "source": [
    "# ---- Select Dataset Source ----\n",
    "# Options: 'NIFTY50', 'NASDAQ', 'Crypto'\n",
    "dataset_option = 'Crypto'  # Change as needed\n",
    "\n",
    "if dataset_option == 'NIFTY50':\n",
    "    DATA_PATH = 'NIFTY50_Combined.csv'\n",
    "elif dataset_option == 'NASDAQ':\n",
    "    DATA_PATH = 'NASDAQ100_Combined.csv'\n",
    "elif dataset_option == 'Crypto':\n",
    "    DATA_PATH = 'CRYPTO50_Combined.csv'\n",
    "else:\n",
    "    raise ValueError('Invalid dataset option selected!')\n",
    "\n",
    "print(f\"Using dataset: {DATA_PATH}\")"
   ]
  },
  {
   "cell_type": "code",
   "execution_count": 27,
   "id": "c87945ad",
   "metadata": {},
   "outputs": [],
   "source": [
    "\n",
    "RESULTS_DIR = \"results\"\n",
    "os.makedirs(RESULTS_DIR, exist_ok=True)"
   ]
  },
  {
   "cell_type": "code",
   "execution_count": 28,
   "id": "3d7d77ac",
   "metadata": {},
   "outputs": [],
   "source": [
    "# Ensure results subdirectory for selected dataset exists\n",
    "os.makedirs(os.path.join(RESULTS_DIR, dataset_option), exist_ok=True)"
   ]
  },
  {
   "cell_type": "code",
   "execution_count": 29,
   "id": "fde8f214",
   "metadata": {},
   "outputs": [],
   "source": [
    "df = pd.read_csv(DATA_PATH)"
   ]
  },
  {
   "cell_type": "code",
   "execution_count": 30,
   "id": "0bf3e096",
   "metadata": {},
   "outputs": [
    {
     "name": "stdout",
     "output_type": "stream",
     "text": [
      "Columns in dataset: Index(['Date', 'Company', 'Open', 'High', 'Low', 'Close', 'Volume'], dtype='object')\n"
     ]
    }
   ],
   "source": [
    "print(\"Columns in dataset:\", df.columns)"
   ]
  },
  {
   "cell_type": "code",
   "execution_count": 31,
   "id": "ae9a8c9e",
   "metadata": {},
   "outputs": [],
   "source": [
    "# 2. Pivot table: each column = stock, values = Adj Close\n",
    "price_df = df.pivot(index=\"Date\", columns=\"Company\", values=\"Close\")"
   ]
  },
  {
   "cell_type": "code",
   "execution_count": 32,
   "id": "7d7e36fb",
   "metadata": {},
   "outputs": [
    {
     "data": {
      "text/html": [
       "<div>\n",
       "<style scoped>\n",
       "    .dataframe tbody tr th:only-of-type {\n",
       "        vertical-align: middle;\n",
       "    }\n",
       "\n",
       "    .dataframe tbody tr th {\n",
       "        vertical-align: top;\n",
       "    }\n",
       "\n",
       "    .dataframe thead th {\n",
       "        text-align: right;\n",
       "    }\n",
       "</style>\n",
       "<table border=\"1\" class=\"dataframe\">\n",
       "  <thead>\n",
       "    <tr style=\"text-align: right;\">\n",
       "      <th>Company</th>\n",
       "      <th>Aave</th>\n",
       "      <th>Algorand</th>\n",
       "      <th>Avalanche</th>\n",
       "      <th>BNB</th>\n",
       "      <th>Bitcoin</th>\n",
       "      <th>Bitcoin Cash</th>\n",
       "      <th>Cardano</th>\n",
       "      <th>Celo</th>\n",
       "      <th>Chainlink</th>\n",
       "      <th>Cosmos</th>\n",
       "      <th>...</th>\n",
       "      <th>Tether</th>\n",
       "      <th>Tezos</th>\n",
       "      <th>Toncoin</th>\n",
       "      <th>UNUS SED LEO</th>\n",
       "      <th>USD Coin</th>\n",
       "      <th>Uniswap</th>\n",
       "      <th>Wrapped Bitcoin</th>\n",
       "      <th>XRP</th>\n",
       "      <th>Zcash</th>\n",
       "      <th>yearn.finance</th>\n",
       "    </tr>\n",
       "    <tr>\n",
       "      <th>Date</th>\n",
       "      <th></th>\n",
       "      <th></th>\n",
       "      <th></th>\n",
       "      <th></th>\n",
       "      <th></th>\n",
       "      <th></th>\n",
       "      <th></th>\n",
       "      <th></th>\n",
       "      <th></th>\n",
       "      <th></th>\n",
       "      <th></th>\n",
       "      <th></th>\n",
       "      <th></th>\n",
       "      <th></th>\n",
       "      <th></th>\n",
       "      <th></th>\n",
       "      <th></th>\n",
       "      <th></th>\n",
       "      <th></th>\n",
       "      <th></th>\n",
       "      <th></th>\n",
       "    </tr>\n",
       "  </thead>\n",
       "  <tbody>\n",
       "    <tr>\n",
       "      <th>2023-01-01</th>\n",
       "      <td>52.045834</td>\n",
       "      <td>0.177466</td>\n",
       "      <td>10.865915</td>\n",
       "      <td>244.136978</td>\n",
       "      <td>16625.080078</td>\n",
       "      <td>96.955070</td>\n",
       "      <td>0.249771</td>\n",
       "      <td>0.480663</td>\n",
       "      <td>5.622443</td>\n",
       "      <td>9.464469</td>\n",
       "      <td>...</td>\n",
       "      <td>0.999692</td>\n",
       "      <td>0.719059</td>\n",
       "      <td>1.059733</td>\n",
       "      <td>3.523903</td>\n",
       "      <td>0.999993</td>\n",
       "      <td>0.000100</td>\n",
       "      <td>16561.123047</td>\n",
       "      <td>0.338763</td>\n",
       "      <td>37.189072</td>\n",
       "      <td>5137.622070</td>\n",
       "    </tr>\n",
       "    <tr>\n",
       "      <th>2023-01-02</th>\n",
       "      <td>53.083157</td>\n",
       "      <td>0.181194</td>\n",
       "      <td>11.153615</td>\n",
       "      <td>245.535904</td>\n",
       "      <td>16688.470703</td>\n",
       "      <td>99.310051</td>\n",
       "      <td>0.253828</td>\n",
       "      <td>0.491749</td>\n",
       "      <td>5.687627</td>\n",
       "      <td>9.802422</td>\n",
       "      <td>...</td>\n",
       "      <td>0.999771</td>\n",
       "      <td>0.739795</td>\n",
       "      <td>1.060018</td>\n",
       "      <td>3.498005</td>\n",
       "      <td>0.999989</td>\n",
       "      <td>0.000100</td>\n",
       "      <td>16659.056641</td>\n",
       "      <td>0.348556</td>\n",
       "      <td>39.523411</td>\n",
       "      <td>5369.373535</td>\n",
       "    </tr>\n",
       "    <tr>\n",
       "      <th>2023-01-03</th>\n",
       "      <td>53.040043</td>\n",
       "      <td>0.184302</td>\n",
       "      <td>11.384450</td>\n",
       "      <td>246.133362</td>\n",
       "      <td>16679.857422</td>\n",
       "      <td>99.649353</td>\n",
       "      <td>0.252796</td>\n",
       "      <td>0.509733</td>\n",
       "      <td>5.622096</td>\n",
       "      <td>10.161021</td>\n",
       "      <td>...</td>\n",
       "      <td>0.999759</td>\n",
       "      <td>0.753744</td>\n",
       "      <td>1.058663</td>\n",
       "      <td>3.496508</td>\n",
       "      <td>1.000098</td>\n",
       "      <td>0.000100</td>\n",
       "      <td>16660.253906</td>\n",
       "      <td>0.343824</td>\n",
       "      <td>39.985916</td>\n",
       "      <td>5331.855957</td>\n",
       "    </tr>\n",
       "    <tr>\n",
       "      <th>2023-01-04</th>\n",
       "      <td>56.787495</td>\n",
       "      <td>0.187093</td>\n",
       "      <td>12.077613</td>\n",
       "      <td>259.119690</td>\n",
       "      <td>16863.238281</td>\n",
       "      <td>101.482735</td>\n",
       "      <td>0.267677</td>\n",
       "      <td>0.507278</td>\n",
       "      <td>5.804032</td>\n",
       "      <td>10.198363</td>\n",
       "      <td>...</td>\n",
       "      <td>0.999763</td>\n",
       "      <td>0.766990</td>\n",
       "      <td>1.059235</td>\n",
       "      <td>3.510222</td>\n",
       "      <td>1.000004</td>\n",
       "      <td>0.000101</td>\n",
       "      <td>16845.671875</td>\n",
       "      <td>0.347794</td>\n",
       "      <td>40.710484</td>\n",
       "      <td>5379.364258</td>\n",
       "    </tr>\n",
       "    <tr>\n",
       "      <th>2023-01-05</th>\n",
       "      <td>55.387627</td>\n",
       "      <td>0.183544</td>\n",
       "      <td>11.740196</td>\n",
       "      <td>256.422852</td>\n",
       "      <td>16836.736328</td>\n",
       "      <td>101.084549</td>\n",
       "      <td>0.269102</td>\n",
       "      <td>0.493617</td>\n",
       "      <td>5.647835</td>\n",
       "      <td>10.076512</td>\n",
       "      <td>...</td>\n",
       "      <td>0.999697</td>\n",
       "      <td>0.761851</td>\n",
       "      <td>1.072343</td>\n",
       "      <td>3.511864</td>\n",
       "      <td>1.000021</td>\n",
       "      <td>0.000101</td>\n",
       "      <td>16812.716797</td>\n",
       "      <td>0.338039</td>\n",
       "      <td>39.746597</td>\n",
       "      <td>5389.466797</td>\n",
       "    </tr>\n",
       "  </tbody>\n",
       "</table>\n",
       "<p>5 rows × 42 columns</p>\n",
       "</div>"
      ],
      "text/plain": [
       "Company          Aave  Algorand  Avalanche         BNB       Bitcoin  \\\n",
       "Date                                                                   \n",
       "2023-01-01  52.045834  0.177466  10.865915  244.136978  16625.080078   \n",
       "2023-01-02  53.083157  0.181194  11.153615  245.535904  16688.470703   \n",
       "2023-01-03  53.040043  0.184302  11.384450  246.133362  16679.857422   \n",
       "2023-01-04  56.787495  0.187093  12.077613  259.119690  16863.238281   \n",
       "2023-01-05  55.387627  0.183544  11.740196  256.422852  16836.736328   \n",
       "\n",
       "Company     Bitcoin Cash   Cardano      Celo  Chainlink     Cosmos  ...  \\\n",
       "Date                                                                ...   \n",
       "2023-01-01     96.955070  0.249771  0.480663   5.622443   9.464469  ...   \n",
       "2023-01-02     99.310051  0.253828  0.491749   5.687627   9.802422  ...   \n",
       "2023-01-03     99.649353  0.252796  0.509733   5.622096  10.161021  ...   \n",
       "2023-01-04    101.482735  0.267677  0.507278   5.804032  10.198363  ...   \n",
       "2023-01-05    101.084549  0.269102  0.493617   5.647835  10.076512  ...   \n",
       "\n",
       "Company       Tether     Tezos   Toncoin  UNUS SED LEO  USD Coin   Uniswap  \\\n",
       "Date                                                                         \n",
       "2023-01-01  0.999692  0.719059  1.059733      3.523903  0.999993  0.000100   \n",
       "2023-01-02  0.999771  0.739795  1.060018      3.498005  0.999989  0.000100   \n",
       "2023-01-03  0.999759  0.753744  1.058663      3.496508  1.000098  0.000100   \n",
       "2023-01-04  0.999763  0.766990  1.059235      3.510222  1.000004  0.000101   \n",
       "2023-01-05  0.999697  0.761851  1.072343      3.511864  1.000021  0.000101   \n",
       "\n",
       "Company     Wrapped Bitcoin       XRP      Zcash  yearn.finance  \n",
       "Date                                                             \n",
       "2023-01-01     16561.123047  0.338763  37.189072    5137.622070  \n",
       "2023-01-02     16659.056641  0.348556  39.523411    5369.373535  \n",
       "2023-01-03     16660.253906  0.343824  39.985916    5331.855957  \n",
       "2023-01-04     16845.671875  0.347794  40.710484    5379.364258  \n",
       "2023-01-05     16812.716797  0.338039  39.746597    5389.466797  \n",
       "\n",
       "[5 rows x 42 columns]"
      ]
     },
     "execution_count": 32,
     "metadata": {},
     "output_type": "execute_result"
    }
   ],
   "source": [
    "price_df.head()"
   ]
  },
  {
   "cell_type": "code",
   "execution_count": 33,
   "id": "0e4e50e1",
   "metadata": {},
   "outputs": [
    {
     "name": "stderr",
     "output_type": "stream",
     "text": [
      "/tmp/ipykernel_39958/4116387759.py:2: FutureWarning: The default fill_method='pad' in DataFrame.pct_change is deprecated and will be removed in a future version. Either fill in any non-leading NA values prior to calling pct_change or specify 'fill_method=None' to not fill NA values.\n",
      "  returns_df = price_df.pct_change().dropna()\n"
     ]
    }
   ],
   "source": [
    "# 3. Calculate daily returns (percentage change)\n",
    "returns_df = price_df.pct_change().dropna()"
   ]
  },
  {
   "cell_type": "code",
   "execution_count": 34,
   "id": "e85b87e3",
   "metadata": {},
   "outputs": [],
   "source": [
    "# 4. Calculate expected returns (mean of daily returns)\n",
    "expected_returns = returns_df.mean()"
   ]
  },
  {
   "cell_type": "code",
   "execution_count": 35,
   "id": "88525bba",
   "metadata": {},
   "outputs": [],
   "source": [
    "# 5. Calculate covariance matrix of returns\n",
    "cov_matrix = returns_df.cov()"
   ]
  },
  {
   "cell_type": "code",
   "execution_count": 36,
   "id": "4eeaa856",
   "metadata": {},
   "outputs": [],
   "source": [
    "returns_df.to_csv(os.path.join(RESULTS_DIR, f\"{dataset_option}/daily_returns.csv\"))\n",
    "expected_returns.to_csv(os.path.join(RESULTS_DIR, f\"{dataset_option}/expected_returns.csv\"))\n",
    "cov_matrix.to_csv(os.path.join(RESULTS_DIR, f\"{dataset_option}/cov_matrix.csv\"))"
   ]
  },
  {
   "cell_type": "code",
   "execution_count": 37,
   "id": "b6c472a0",
   "metadata": {},
   "outputs": [
    {
     "name": "stdout",
     "output_type": "stream",
     "text": [
      "✅ Preprocessing done. Files saved in /results\n",
      "Expected Returns (first few):\n",
      " Company\n",
      "Aave         0.004549\n",
      "Algorand     0.003807\n",
      "Avalanche    0.004228\n",
      "BNB          0.003021\n",
      "Bitcoin      0.003079\n",
      "dtype: float64\n",
      "Covariance Matrix shape: (42, 42)\n"
     ]
    }
   ],
   "source": [
    "\n",
    "print(\"✅ Preprocessing done. Files saved in /results\")\n",
    "print(\"Expected Returns (first few):\\n\", expected_returns.head())\n",
    "print(\"Covariance Matrix shape:\", cov_matrix.shape)"
   ]
  },
  {
   "cell_type": "code",
   "execution_count": null,
   "id": "077b25df",
   "metadata": {},
   "outputs": [],
   "source": []
  }
 ],
 "metadata": {
  "kernelspec": {
   "display_name": "Python 3",
   "language": "python",
   "name": "python3"
  },
  "language_info": {
   "codemirror_mode": {
    "name": "ipython",
    "version": 3
   },
   "file_extension": ".py",
   "mimetype": "text/x-python",
   "name": "python",
   "nbconvert_exporter": "python",
   "pygments_lexer": "ipython3",
   "version": "3.12.1"
  }
 },
 "nbformat": 4,
 "nbformat_minor": 5
}
