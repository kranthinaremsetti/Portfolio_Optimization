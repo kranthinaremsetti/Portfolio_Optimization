{
 "cells": [
  {
   "cell_type": "code",
   "execution_count": 17,
   "id": "42539199",
   "metadata": {},
   "outputs": [],
   "source": [
    "import numpy as np\n",
    "import pandas as pd\n",
    "from qiskit_optimization import QuadraticProgram"
   ]
  },
  {
   "cell_type": "code",
   "execution_count": 18,
   "id": "95fb5edd",
   "metadata": {},
   "outputs": [],
   "source": [
    "expected_returns = pd.read_csv(\"results/expected_returns.csv\", index_col=0)\n",
    "cov_matrix = pd.read_csv(\"results/cov_matrix.csv\", index_col=0)"
   ]
  },
  {
   "cell_type": "code",
   "execution_count": 19,
   "id": "21c73d64",
   "metadata": {},
   "outputs": [],
   "source": [
    "\n",
    "mu = expected_returns.values.flatten()   # expected returns vector\n",
    "Sigma = cov_matrix.values                # covariance matrix\n",
    "n_assets = len(mu)"
   ]
  },
  {
   "cell_type": "code",
   "execution_count": 29,
   "id": "fb624891",
   "metadata": {},
   "outputs": [],
   "source": [
    "N = 10  # or any small number\n",
    "mu = mu[:N]\n",
    "Sigma = Sigma[:N, :N]\n",
    "n_assets = N"
   ]
  },
  {
   "cell_type": "code",
   "execution_count": 40,
   "id": "5ec729d2",
   "metadata": {},
   "outputs": [
    {
     "name": "stdout",
     "output_type": "stream",
     "text": [
      "Budget constraint: selecting 5 out of 10 assets\n"
     ]
    }
   ],
   "source": [
    "gamma = 0.5\n",
    "\n",
    "# Flexible budget: you can choose either by number or percentage\n",
    "# Example: set budget_type = \"percentage\" and budget_value = 0.3 (30%)\n",
    "#          or set budget_type = \"number\" and budget_value = 10 (10 stocks)\n",
    "\n",
    "budget_type = \"number\"   # options: \"percentage\" or \"number\"\n",
    "budget_value = 5         # if percentage → fraction of total assets, if number → count\n",
    "\n",
    "if budget_type == \"percentage\":\n",
    "    budget = int(n_assets * budget_value)\n",
    "else:  # \"number\"\n",
    "    budget = int(budget_value)\n",
    "\n",
    "# Ensure budget is within valid range\n",
    "budget = max(1, min(budget, n_assets))\n",
    "print(f\"Budget constraint: selecting {budget} out of {n_assets} assets\")"
   ]
  },
  {
   "cell_type": "code",
   "execution_count": 41,
   "id": "efbbaf89",
   "metadata": {},
   "outputs": [],
   "source": [
    "qp = QuadraticProgram(\"Portfolio Optimization\")"
   ]
  },
  {
   "cell_type": "code",
   "execution_count": 42,
   "id": "a4478679",
   "metadata": {},
   "outputs": [],
   "source": [
    "# Decision variables: x_i = 1 if asset i is chosen, 0 otherwise\n",
    "for i in range(n_assets):\n",
    "    qp.binary_var(name=f\"x_{i}\")"
   ]
  },
  {
   "cell_type": "code",
   "execution_count": 43,
   "id": "bc2d608e",
   "metadata": {},
   "outputs": [],
   "source": [
    "# Objective: maximize returns - gamma * risk\n",
    "# Equivalent to: minimize -mu^T x + gamma * x^T Σ x\n",
    "linear = -mu\n",
    "quadratic = gamma * Sigma\n",
    "qp.minimize(linear=linear, quadratic=quadratic)"
   ]
  },
  {
   "cell_type": "code",
   "execution_count": 44,
   "id": "39a5bc9c",
   "metadata": {},
   "outputs": [
    {
     "data": {
      "text/plain": [
       "<LinearConstraint: x_0 + x_1 + x_2 + x_3 + x_4 + x_5 + x_6 + x_7 + x_... == 5 'budget_constraint'>"
      ]
     },
     "execution_count": 44,
     "metadata": {},
     "output_type": "execute_result"
    }
   ],
   "source": [
    "# Budget constraint: select exactly \"budget\" assets\n",
    "qp.linear_constraint(\n",
    "    linear={f\"x_{i}\": 1 for i in range(n_assets)},\n",
    "    sense=\"==\",\n",
    "    rhs=budget,\n",
    "    name=\"budget_constraint\"\n",
    ")"
   ]
  },
  {
   "cell_type": "code",
   "execution_count": 45,
   "id": "9bea8f4f",
   "metadata": {},
   "outputs": [],
   "source": [
    "import numpy as np\n",
    "from qiskit_algorithms.optimizers import COBYLA\n",
    "from qiskit_algorithms import QAOA\n",
    "from qiskit.primitives import Sampler\n",
    "from qiskit_optimization import QuadraticProgram\n",
    "from qiskit_optimization.algorithms import MinimumEigenOptimizer"
   ]
  },
  {
   "cell_type": "code",
   "execution_count": 46,
   "id": "1235ced4",
   "metadata": {},
   "outputs": [],
   "source": [
    "sampler = Sampler()\n",
    "qaoa = QAOA(sampler=sampler, optimizer=COBYLA(), reps=1)\n",
    "optimizer = MinimumEigenOptimizer(qaoa)"
   ]
  },
  {
   "cell_type": "code",
   "execution_count": 47,
   "id": "4e0ee755",
   "metadata": {},
   "outputs": [],
   "source": [
    "result = optimizer.solve(qp)"
   ]
  },
  {
   "cell_type": "code",
   "execution_count": 48,
   "id": "f92139ad",
   "metadata": {},
   "outputs": [
    {
     "name": "stdout",
     "output_type": "stream",
     "text": [
      "\n",
      "Optimal portfolio allocation:\n",
      "fval=-0.0046530926689078485, x_0=0.0, x_1=0.0, x_2=1.0, x_3=1.0, x_4=0.0, x_5=1.0, x_6=1.0, x_7=0.0, x_8=0.0, x_9=1.0, status=SUCCESS\n"
     ]
    }
   ],
   "source": [
    "print(\"\\nOptimal portfolio allocation:\")\n",
    "print(result)"
   ]
  },
  {
   "cell_type": "code",
   "execution_count": null,
   "id": "44d68000",
   "metadata": {},
   "outputs": [],
   "source": []
  }
 ],
 "metadata": {
  "kernelspec": {
   "display_name": "Python 3",
   "language": "python",
   "name": "python3"
  },
  "language_info": {
   "codemirror_mode": {
    "name": "ipython",
    "version": 3
   },
   "file_extension": ".py",
   "mimetype": "text/x-python",
   "name": "python",
   "nbconvert_exporter": "python",
   "pygments_lexer": "ipython3",
   "version": "3.12.1"
  }
 },
 "nbformat": 4,
 "nbformat_minor": 5
}
